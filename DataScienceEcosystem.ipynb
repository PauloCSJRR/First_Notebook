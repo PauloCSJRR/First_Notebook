{
 "cells": [
  {
   "cell_type": "markdown",
   "id": "edae8ba9-eeef-4cbc-9857-f433f498b8d0",
   "metadata": {
    "tags": []
   },
   "source": [
    "# Data Science Ecosystem"
   ]
  },
  {
   "cell_type": "markdown",
   "id": "52347d85-5ae0-45a8-829d-76b7d0580de9",
   "metadata": {
    "tags": []
   },
   "source": [
    "### In this notebook, Data Science Tools and Ecosystem are summarized."
   ]
  },
  {
   "cell_type": "markdown",
   "id": "42837e44-c0f2-4000-be57-17aa2bdde6bd",
   "metadata": {},
   "source": [
    "#### Objectives:\n",
    "\n",
    "* Introduce popular languages used in Data Science\n",
    "* Introduce commonly used libraries used in Data Science\n",
    "* Get to know the very basics of how aritmetics work"
   ]
  },
  {
   "cell_type": "markdown",
   "id": "3ab96335-4965-40af-a1ee-59062679fa4c",
   "metadata": {},
   "source": [
    "### Some of the popular languages that Data Scientists use are:\n",
    "\n",
    "1. Python\n",
    "2. R\n",
    "3. Julia"
   ]
  },
  {
   "cell_type": "markdown",
   "id": "2287421f-7363-4f3f-a2dc-e4ca1ee19317",
   "metadata": {},
   "source": [
    "### Some of the commonly used libraries used by Data Scientists include:\n",
    "\n",
    "1. Pandas\n",
    "2. Numpy\n",
    "3. Scikitlearn\n",
    "4. Seaborn\n",
    "5. Matplotlib"
   ]
  },
  {
   "cell_type": "markdown",
   "id": "10ad77e3-70a0-4c66-b141-51f6ce576e40",
   "metadata": {
    "tags": []
   },
   "source": [
    "### Popular Data Science open source tools\n",
    "\n",
    "| Data Science Tools        |\n",
    "|--------------------------|\n",
    "| Jupyter Notebook         |\n",
    "| RStudio                  |\n",
    "| Visual Studio Code (VSCode) |\n"
   ]
  },
  {
   "cell_type": "markdown",
   "id": "dc371b63-7f42-42ae-a868-04c0c77b5bb8",
   "metadata": {},
   "source": [
    "### Below are a few examples of evaluating arithmetic expressions in Python"
   ]
  },
  {
   "cell_type": "code",
   "execution_count": 3,
   "id": "5151407b-02b1-4d59-9391-a861b3f252fb",
   "metadata": {
    "tags": []
   },
   "outputs": [
    {
     "data": {
      "text/plain": [
       "17"
      ]
     },
     "execution_count": 3,
     "metadata": {},
     "output_type": "execute_result"
    }
   ],
   "source": [
    "# This a simple arithmetic expression to mutiply then add integers\n",
    "(3*4)+5"
   ]
  },
  {
   "cell_type": "code",
   "execution_count": 4,
   "id": "cab44331-ede2-4d00-93b8-bacfc0883148",
   "metadata": {
    "tags": []
   },
   "outputs": [
    {
     "data": {
      "text/plain": [
       "3.3333333333333335"
      ]
     },
     "execution_count": 4,
     "metadata": {},
     "output_type": "execute_result"
    }
   ],
   "source": [
    "#  This will convert 200 minutes to hours by diving by 60\n",
    "\n",
    "200/60"
   ]
  },
  {
   "cell_type": "markdown",
   "id": "5d0b7023-1e2a-473e-8646-b387ec57330d",
   "metadata": {},
   "source": [
    "## Author\n",
    "\n",
    "Paulo Cesar"
   ]
  },
  {
   "cell_type": "code",
   "execution_count": null,
   "id": "a01a3dc7-5fbc-40a5-aa91-9c119c8dc85e",
   "metadata": {},
   "outputs": [],
   "source": []
  }
 ],
 "metadata": {
  "kernelspec": {
   "display_name": "Python 3 (ipykernel)",
   "language": "python",
   "name": "python3"
  },
  "language_info": {
   "codemirror_mode": {
    "name": "ipython",
    "version": 3
   },
   "file_extension": ".py",
   "mimetype": "text/x-python",
   "name": "python",
   "nbconvert_exporter": "python",
   "pygments_lexer": "ipython3",
   "version": "3.11.4"
  }
 },
 "nbformat": 4,
 "nbformat_minor": 5
}
